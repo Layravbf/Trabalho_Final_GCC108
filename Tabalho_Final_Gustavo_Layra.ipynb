{
 "cells": [
  {
   "cell_type": "markdown",
   "metadata": {
    "id": "sE1lFsqYC4QB"
   },
   "source": [
    "# Trabalho Final GCC-108 - Teoria da Computação #\n",
    "Prof.: Douglas H. S. Abreu\n",
    "\n",
    "Nome: Gustavo Ribeiro da Fonseca Santos, Layra Vilas Boas Ferreira\n",
    "\n",
    "Turma: 10A\n",
    "\n",
    "Link do repositório [GitHub](https://github.com/Layravbf/Trabalho_Final_GCC108)(https://github.com/Layravbf/Trabalho_Final_GCC108)\n",
    "\n",
    "_______________________________________________________________________________________________________________________________"
   ]
  },
  {
   "cell_type": "markdown",
   "metadata": {
    "id": "YCcUP6mnC4QL"
   },
   "source": [
    "●\tO trabalho deve ser feito em grupos de no máximo 2 componentes\n",
    "\n",
    "●\tTrabalhos entregues após a data limite não serão aceitos\n",
    "\n",
    "●\tData limite de entrega: 29 de Abril de 2022 : 23h59m\n",
    "\n",
    "●\tEnviar o trabalho para o campus virtual, do seguinte modo: Notebook exportado em PDF contendo o código e também o link do repositório GitHub para acesso aos arquivos. A Documentação deve estar no readme\n",
    "\n",
    "●\tO trabalho deve ser desenvolvido no modelo Notebook utilizando a linguagem Python\n",
    "_______________________________________________________________________________________________________________________________ "
   ]
  },
  {
   "cell_type": "markdown",
   "metadata": {
    "id": "P4OQQl2dC4QN"
   },
   "source": [
    "# Introdução\n",
    "Este trabalho propõe a utilização de operações da aritmética computacional por meio de uma Máquina de Turing. A máquina que foi desenvolvida recebe como entrada dois números em binário e gera como saída o resultado da adição desses números.\n",
    "\n",
    "#### Números binários e adição em números binários \n",
    "\n",
    "Os números binários são utilizados para representar dados em um meio digital, como por exemplo, a representação no meio analógico com presença ou ausência de carga elétrica e no meio digital por meio de zeros e uns. Essa representação com dois símbolos utiliza-se da mesma técnica do telégrafo, que transmitia mensagens por código Morse, sendo os símbolos curto e longo análogos ao zero e um (1).\n",
    "\n",
    "Utilizando-se a notação binária é possível representar uma faixa de valores diferentes de acordo com a quantidade de bits. Por exemplo, com dois bits pode-se representar quatro valores distintos, sendo eles 00, 01, 10 e 11. Ou seja, com n bits, podemos representar 2n valores distintos. \n",
    "\n",
    "Para a notação de números inteiros usando a base binária de zeros e uns, podemos representar os números utilizando as seguintes representações: de binário puro, de binários em sinal magnitude e a representação em complemento de 2 (1).\n",
    "\n",
    "Tomando como base a representação de números inteiros na base binária pura, que também é a representação utilizada neste trabalho, pode-se observar na Tabela 1, que com quatro bits temos as seguintes possibilidades para números inteiros.\n",
    "\n",
    "![Tabela1-3.png](attachment:Tabela1-3.png)\n",
    "\n",
    "As operações matemáticas de adição e subtração feitas na base binária seguem as mesmas regras da base decimal, contando com a diferença que temos apenas dois dígitos. Para a adição de dois números, temos quatro possibilidades de valores, sendo elas: 0 + 0, 0 + 1, 1 + 0, e 1 + 1. As três primeiras têm os mesmos resultados de uma operação em decimal, já para a operação de 1 + 1 temos como resultado zero, gerando um “vai um” para a coluna da esquerda (1).\n",
    "\n",
    "#### Máquina de Turing\n",
    "\n",
    "Turing descreve um computador digital como sendo formado por: uma unidade de armazenamento, uma unidade de execução e uma unidade de controle. A unidade de armazenamento é formada por uma fita, dividida em células, com um cabeçote apontando para a célula atual, a qual pode ser lida/escrita de acordo com a unidade de execução. Por sua vez, a unidade de execução tem como objetivo fazer a leitura do caractere representado na célula atual, analisar o que deve ser feito e alterar quando necessário. Já a unidade de controle faz as movimentações do cabeçote de acordo com o que a unidade de execução deseja, movendo o cabeçote para esquerda ou direita (2).\n",
    "\n",
    "### Exercício 1)\n",
    "Descreva com suas palavras uma estratégia para o desenvolvimento de uma maquina de Turing que compute a soma de 2 numeros binário.\n",
    "\n",
    "A máquina de turing que computa a soma de 2 números binários, deve receber os dois números separados por um símbolo que indica um espaço em branco \"□\".\n",
    "Com isso, devemos ter os seguintes estados:\n",
    "\n",
    "* *q0:* estado inicial\n",
    "* *q1:* \n",
    "* *q2:* \n",
    "* *q3:*\n",
    "* *q4:*\n",
    "* *q5:*\n",
    "* *q6:*\n",
    "* *q7:* estado final\n",
    "\n",
    "Inicialmente rodamos a fita até encontrar o separador, após isso acessamos o último valor do segundo número, e desse número subtraimos 1. Com isso ela troca 0's por 1's e 1's por 0's, adicionando 1 no primeiro número. Ao final, o segundo número tem seus valores trocados por □ e então a operação é aceita.\n",
    "\n",
    "---\n",
    "\n",
    "### Exercício 2) \n",
    "Faça o esboço por meio de desenho da máquina de Turing proposta.\n",
    "\n",
    "![MT-Soma-Binaria](MT_soma.PNG)\n",
    "\n",
    "---\n",
    "\n",
    "### Exercício 3)\n",
    "Defina a MT como uma quíntupla M=(Q,Σ,Γ,δ,q_0):\n",
    "\t\n",
    "    Q = conjunto de estados (padrão q[0-9]+)\n",
    "\t\n",
    "    Σ = alfabeto de entrada\n",
    "\t\n",
    "    Γ = alfabeto da fita\n",
    "\t\n",
    "    δ = função de transição no formato (q_i,x)→(q_j,y,D); assim, estando no estado q_i, lendo x, vai para o estado q_j, escreve y e movimenta na direção de D. D será L para esquerda ou R para direita.\n",
    "    \n",
    "    q_0 = estado inicial\n",
    "\n",
    "--\n",
    "\n",
    "M = (Q,Σ,Γ,δ,q_0):\n",
    "\n",
    "Q = {q1, q2, q3, q4, q5, q6, q7}\n",
    "\n",
    "Σ = {0, 1}\n",
    "\n",
    "Γ = {0, 1, □}\n",
    "\n",
    "q_0 = {q1}\n",
    "\n",
    "-\n",
    "\n",
    "δ = (q0, □)->(q1, □, R)\n",
    "\n",
    "-\n",
    "\n",
    "δ = (q1, 1)->(q1, 1, R) \n",
    "\n",
    "δ = (q1, 0)->(q1, 0, R)\n",
    "\n",
    "δ = (q1, □)->(q2, □, R)\n",
    "\n",
    "-\n",
    "\n",
    "δ = (q2, 1)->(q2, 1, R)\n",
    "\n",
    "δ = (q2, 0)->(q2, 0, R)\n",
    "\n",
    "δ = (q2, □)->(q3, □, L)\n",
    "\n",
    "-\n",
    "\n",
    "δ = (q3, 0)->(q3, 1, L)\n",
    "\n",
    "δ = (q3, 1)->(q4, 0, L)\n",
    "\n",
    "δ = (q3, □)->(q6, □, R)\n",
    "\n",
    "-\n",
    "\n",
    "δ = (q4, 0)->(q4, 0, L)\n",
    "\n",
    "δ = (q4, 1)->(q4, 1, L)\n",
    "\n",
    "δ = (q4, □)->(q5, □, L)\n",
    "\n",
    "-\n",
    "\n",
    "δ = (q5, 1)->(q5, 0, L)\n",
    "\n",
    "δ = (q5, 0)->(q1, 1, R)\n",
    "\n",
    "δ = (q5, □)->(q1, 1, R)\n",
    "\n",
    "-\n",
    "\n",
    "δ = (q6, 1)->(q6, □, R)\n",
    "\n",
    "δ = (q6, □)->(q7, □, L)\n",
    "\n",
    "---\n",
    "    \n",
    "### Exercício 4)\n",
    "Faça a conversão de M em R(M)\n",
    "\n",
    "δ = (q0, □)->(q1, □, R) = 101110110111011\n",
    "\n",
    "δ = (q1, 1)->(q1, 1, R) = 11011011011011\n",
    "\n",
    "δ = (q1, 0)->(q1, 0, R) = 110101101011\n",
    "\n",
    "δ = (q1, □)->(q2, □, R) = 11011101110111011\n",
    "\n",
    "δ = (q2, 1)->(q2, 1, R) = 1110110111011011\n",
    "\n",
    "δ = (q2, 0)->(q2, 0, R) = 11101011101011\n",
    "\n",
    "δ = (q2, □)->(q3, □, L) = 111011101111011101\n",
    "\n",
    "δ = (q3, 0)->(q3, 1, L) = 1111010111101101\n",
    "\n",
    "δ = (q3, 1)->(q4, 0, L) = 11110110111110101\n",
    "\n",
    "δ = (q3, □)->(q6, □, R) = 11110111011111110111011\n",
    "\n",
    "δ = (q4, 0)->(q4, 0, L) = 11111010111110101\n",
    "\n",
    "δ = (q4, 1)->(q4, 1, L) = 1111101101111101101\n",
    "\n",
    "δ = (q4, □)->(q5, □, L) = 1111101110111111011101\n",
    "\n",
    "δ = (q5, 1)->(q5, 0, L) = 11111101101111110101\n",
    "\n",
    "δ = (q5, 0)->(q1, 1, R) = 11111101011011011\n",
    "\n",
    "δ = (q5, □)->(q1, 1, R) = 1111110111011011011\n",
    "\n",
    "δ = (q6, 1)->(q6, □, R) = 1111111011011111110111011\n",
    "\n",
    "δ = (q6, □)->(q7, □, L) = 11111110111011111111011101\n",
    "\n",
    "R(M) = 0001011101101110110011011011011011001101011010110011011101110111011001110110111011011001110101110101100111011101111011101001111010111101101001111011011111010100111101110111111101110110011111010111110101001111101101111101101001111101110111111011101001111110110111111010100111111010110110110011111101110110110110011111110110111111101110110011111110111011111111011101000\n",
    "\n",
    "---\n",
    "\n",
    "### Exercício 5) \n",
    "Desenvolva uma função MTU que receba R(M) acrescido de uma entrada w, onde w é um arquivo csv que contem dois números binário. A saída da função MTU deve ser a computação de M para uma entrada w.\n",
    "_______________________________________________________________________________________________________________________________"
   ]
  },
  {
   "cell_type": "code",
   "execution_count": 6,
   "metadata": {
    "id": "IORylEgiibai"
   },
   "outputs": [],
   "source": [
    "def mtu(rm, w):\n",
    "    N = 18 # Tamanho da fita   \n",
    "    maquina = open(rm).read()\n",
    "    maquina = maquina.split('000')[1]\n",
    "    w = open(w).read().split(',')\n",
    "    w = '□'.join([w[0], w[1]])\n",
    "    \n",
    "    transicoes = {}\n",
    "    estado = str(1) # 1 = q0 estado inicial\n",
    "    fita = ['□'] * N # preenche a fita com '□' N vezes\n",
    "    cabecote = N // 2  # cabecote é posicionada no meio da fita para começar a preencher\n",
    "    \n",
    "    i = 0\n",
    "    for elemento in w: # Coloca os elementos de w na fita\n",
    "        fita[cabecote+i] = elemento #começa a partir da posição do cabeçote e vai para a direita\n",
    "        i+=1\n",
    "\n",
    "    for iterator in maquina.split('00'): # Separa as transições, quando juntas fica 00\n",
    "        estadoPartida, leitura, estadoDestino, escrita, direcao  = iterator.split('0') # Define cada variavel\n",
    "        \n",
    "        if(leitura == '11'):\n",
    "            leitura = leitura.replace('11', '1')\n",
    "        elif(leitura == '1'):\n",
    "            leitura = leitura.replace('1', '0')\n",
    "        elif(leitura == '111'):\n",
    "            leitura = leitura.replace('111', '□')\n",
    "\n",
    "        if(escrita == '11'):\n",
    "            escrita = escrita.replace('11', '1')\n",
    "        elif(escrita == '1'):\n",
    "            escrita = escrita.replace('1', '0')\n",
    "        elif(escrita == '111'):\n",
    "            escrita = escrita.replace('111', '□')\n",
    "\n",
    "        transicoes[estadoPartida,leitura] = (estadoDestino, escrita, direcao)\n",
    "\n",
    "    cabecote -= 1 # Aponta para branco '□'\n",
    "    leitura = fita[cabecote] \n",
    "\n",
    "    while transicoes.get((estado, leitura)):\n",
    "        acao = transicoes.get((estado, leitura)) #pega estado para onde vai e o que será escrito e qual direcao seguir\n",
    "       \n",
    "        estadoDestino, escrita, direcao = acao #acao possui 3 posicoes\n",
    "        fita[cabecote] = escrita #escreve na fita\n",
    "        cabecote = cabecote + ({True: 1, False: -1} [direcao == '11']) #+1 se for direita, -1 se for esquerda\n",
    "        leitura = fita[cabecote]\n",
    "\n",
    "        estado = estadoDestino\n",
    "\n",
    "    print(\"Resultado: \", fita)"
   ]
  },
  {
   "cell_type": "code",
   "execution_count": 7,
   "metadata": {
    "colab": {
     "base_uri": "https://localhost:8080/",
     "height": 322
    },
    "id": "PLd-gF6EoQGR",
    "outputId": "fe01e6be-c9f6-4ec7-f93a-d8ab564a22c7"
   },
   "outputs": [
    {
     "name": "stdout",
     "output_type": "stream",
     "text": [
      "Resultado:  ['□', '□', '□', '□', '□', '□', '□', '□', '1', '1', '0', '0', '□', '□', '□', '□', '□', '□']\n"
     ]
    }
   ],
   "source": [
    "rm = 'rm.txt'\n",
    "w = 'w.csv'\n",
    "\n",
    "mtu(rm, w)"
   ]
  },
  {
   "cell_type": "markdown",
   "metadata": {
    "id": "xkl99MqNC4QP"
   },
   "source": [
    "### Exercício 6) \n",
    "\n",
    "_A)_ Explique a Tese de Chuch-Turing de forma sucinta\n",
    "\n",
    "Toda 'função que seria naturalmente considerada computável' pode ser computada por uma Máquina de Turing. Ou seja, tudo que pode ser efetivamente calculado é computável(produzida por uma MT).\n",
    "\n",
    "---\n",
    "\n",
    "_B)_ Dada uma máquina de Turing arbitrária M e uma string de entrada w, a computação de M com entrada w irá parar em menos de 100 transições? Descreva uma máquina de Turing que resolva esse problema de decisão.\n",
    "\n",
    "   Sendo a entrada w uma linguagem recursiva, o teorema de Rice mostra que qualquer propriedade que seja satisfeita por algumas, mas não todas, linguagens recursivamente enumeráveis é indecidível.Turing provou que não existe nenhum algoritmo que sempre decida corretamente se, para um determinado programa e entrada arbitrários, o programa é interrompido quando executado com aquela entrada. A essência da prova de Turing é que qualquer algoritmo pode se contradizer e, portanto, não pode ser correto.Logo, se é um problema indecidivel não existe MT que possa resolver esse problema de decisão.\n",
    "\n",
    "---\n",
    "\n",
    "_C)_ Motre a solução para cada um dos seguintes sitemas de correspondência de Post:\n",
    "\n",
    "a) (a, aa), (bb, b), (a, bb)\n",
    "\n",
    "b) (a, ab), (ba, aba), (b, aba), (bba, b)\n",
    "\n",
    "c) (abb, ab), (aba, ba), (aab,a bab)\n",
    "\n",
    "d) (ab,aba), (baa, aa), (aba, baa)\n",
    "\n",
    "e) (a, aaa), (aab, b), (abaaa, ab)\n",
    "\n",
    "f) (ab, bb), (aa, ba), (ab, abb), (bb, bab)\n",
    "\n",
    "-\n",
    "![Correspondencia de Post](post.jpeg)\n",
    "_______________________________________________________________________________________________________________________________\n",
    "\n",
    "_D)_ \n",
    "\n",
    "a) Prove que a função é primitiva recursiva\n",
    " \n",
    "![minimizacao.png](attachment:minimizacao.png)\n",
    "\n",
    "sempre que _p_ e _u_ são recursivas primitivas \n",
    "\n",
    "\n",
    "---\n",
    "\n",
    "b) defina o valor \"passo a passo\" de _gn(4,1,0,2,1) =_\n",
    " \n",
    " $ pn(0)^{4+1} * pn(1)^{1+1} * pn(2)^{0+1} * pn(3)^{2+1} * pn(4)^1+1 $\n",
    " \n",
    " $ 2^{4+1} * 3^{1+1} * 5^{0+1} * 7^{2+1} * 11^{1+1} = 32 * 9 * 5 * 343 * 121 = 59764320 $\n",
    "_______________________________________________________________________________________________________________________________"
   ]
  },
  {
   "cell_type": "markdown",
   "metadata": {
    "id": "603JyAeaC4QQ"
   },
   "source": [
    " _E)_ \n",
    "\n",
    "a) Dado _f(x) = 3x² + 4x + 6_ e _g(x) = 5x²_ \n",
    "\n",
    "Prove que _g(x) ∈ O(f)_ e _f(x) ∈ O(g)_\n",
    "\n",
    "Complexidade de _f(x) = 3x²_ , dessa forma _O(f) = O(N²)_ \n",
    "\n",
    "Complexidade de _g(x) = 5x²_  dessa forma _O(g) = O(N²)_\n",
    "\n",
    "Logo, _f(x) ∈ O(f)_ e _g(x) ∈ O(f)_;\n",
    "\n",
    "---\n",
    "\n",
    "b) Qual é a complexidade e o \"_big O\"_ de M'?\n",
    "\n",
    "![MT.png](attachment:MT.png)\n",
    "\n",
    "A complexidade de M' é tcM'(n) = 3(n + 1) + 1. Que representa a complexidade de uma função que aumenta linearmente e em proporção direta ao número de entradas.\n",
    "_______________________________________________________________________________________________________________________________\n",
    "\n",
    "# Referências\n",
    "\n",
    "(1) _Ronald. J. Tocci, Neal. S. Widmer e Gregory L. Moss. 2011. Sistemas Digitais: Princípios e Aplicações. (11ª ed.). Pearson._\n",
    "\n",
    "(2) _Alan Turing. 1937. Computability and λ-definability. Journal of Symbolic Logic, 2, 4: 153–163._\n",
    "\n",
    "(3) _Sudkamp, T. A. 2006. Languages and machines: an introduction to the theory of computer science. 3rd Edition_\n",
    "_______________________________________________________________________________________________________________________________"
   ]
  },
  {
   "cell_type": "code",
   "execution_count": 1,
   "metadata": {
    "id": "YgmxEQ-iC4QR"
   },
   "outputs": [
    {
     "data": {
      "text/plain": [
       "'sala'"
      ]
     },
     "execution_count": 1,
     "metadata": {},
     "output_type": "execute_result"
    }
   ],
   "source": [
    "# bla bla bla\n",
    "x= \"sala\"\n",
    "x"
   ]
  },
  {
   "cell_type": "code",
   "execution_count": 2,
   "metadata": {
    "id": "BSxvLtRQC4QT"
   },
   "outputs": [
    {
     "ename": "SyntaxError",
     "evalue": "invalid syntax (<ipython-input-2-4536f0d7e22b>, line 3)",
     "output_type": "error",
     "traceback": [
      "\u001b[1;36m  File \u001b[1;32m\"<ipython-input-2-4536f0d7e22b>\"\u001b[1;36m, line \u001b[1;32m3\u001b[0m\n\u001b[1;33m    def MTU ()\u001b[0m\n\u001b[1;37m              ^\u001b[0m\n\u001b[1;31mSyntaxError\u001b[0m\u001b[1;31m:\u001b[0m invalid syntax\n"
     ]
    }
   ],
   "source": [
    "# função MTU = {R(M)| R(M) aceite w}\n",
    "\n",
    "def MTU ()"
   ]
  },
  {
   "cell_type": "code",
   "execution_count": 3,
   "metadata": {
    "id": "WJPAHAHLC4QU"
   },
   "outputs": [],
   "source": [
    "# bla bla bla"
   ]
  },
  {
   "cell_type": "markdown",
   "metadata": {
    "id": "qDLKfbCFC4QU"
   },
   "source": [
    "_______________________________________________________________________________________________________________________________\n",
    "# Links úteis:\n",
    "\n",
    "Link do site [Jupyter](https://jupyter.org/)\n",
    "\n",
    "Link do site [Anaconda](https://www.anaconda.com/)\n",
    "\n",
    "Link para ajuda com [Markdown no Notebook](https://acervolima.com/celula-markdown-no-caderno-jupyter/)\n"
   ]
  },
  {
   "cell_type": "code",
   "execution_count": 4,
   "metadata": {
    "id": "6zY_fWWQC4QV",
    "outputId": "ea619b35-3823-4f59-8652-662d80237c23"
   },
   "outputs": [
    {
     "data": {
      "text/html": [
       "<div>\n",
       "<style scoped>\n",
       "    .dataframe tbody tr th:only-of-type {\n",
       "        vertical-align: middle;\n",
       "    }\n",
       "\n",
       "    .dataframe tbody tr th {\n",
       "        vertical-align: top;\n",
       "    }\n",
       "\n",
       "    .dataframe thead th {\n",
       "        text-align: right;\n",
       "    }\n",
       "</style>\n",
       "<table border=\"1\" class=\"dataframe\">\n",
       "  <thead>\n",
       "    <tr style=\"text-align: right;\">\n",
       "      <th></th>\n",
       "      <th>1011000;1101</th>\n",
       "    </tr>\n",
       "  </thead>\n",
       "  <tbody>\n",
       "  </tbody>\n",
       "</table>\n",
       "</div>"
      ],
      "text/plain": [
       "Empty DataFrame\n",
       "Columns: [1011000;1101]\n",
       "Index: []"
      ]
     },
     "execution_count": 4,
     "metadata": {},
     "output_type": "execute_result"
    }
   ],
   "source": [
    "import pandas as pd\n",
    "exemplo = pd.read_csv('exemplo2.CSV')\n",
    "exemplo"
   ]
  },
  {
   "cell_type": "code",
   "execution_count": 5,
   "metadata": {
    "id": "IJEYepxvC4QW",
    "outputId": "e7216985-8bb2-44c7-ee41-98862511ed70",
    "scrolled": false
   },
   "outputs": [
    {
     "name": "stdout",
     "output_type": "stream",
     "text": [
      "['', '111010100111011001111001111111010101101', '1111111011111']\n",
      "['', '01110101', '111011', '1111', '1111111010101101', '01111111011111']\n",
      "6\n"
     ]
    }
   ],
   "source": [
    "txt = \"0001110101001110110011110011111110101011010001111111011111\"\n",
    "\n",
    "x = txt.split(\"000\")\n",
    "print(x)\n",
    "y = txt.split(\"00\")\n",
    "print(y)\n",
    "print(len(y[2]))"
   ]
  },
  {
   "cell_type": "markdown",
   "metadata": {
    "id": "KXh1KJ89C4QX"
   },
   "source": []
  },
  {
   "cell_type": "markdown",
   "metadata": {
    "id": "Vikr_0qMC4QX"
   },
   "source": [
    "$\\prod f(x)= x^{6}+3+y\\times \\begin{pmatrix}\n",
    "aabb\\\\ \n",
    "bbaaa\n",
    "\\end{pmatrix}$"
   ]
  }
 ],
 "metadata": {
  "colab": {
   "name": "Tabalho_Final_Enunciado.ipynb",
   "provenance": []
  },
  "kernelspec": {
   "display_name": "Python 3",
   "language": "python",
   "name": "python3"
  },
  "language_info": {
   "codemirror_mode": {
    "name": "ipython",
    "version": 3
   },
   "file_extension": ".py",
   "mimetype": "text/x-python",
   "name": "python",
   "nbconvert_exporter": "python",
   "pygments_lexer": "ipython3",
   "version": "3.8.8"
  }
 },
 "nbformat": 4,
 "nbformat_minor": 1
}
